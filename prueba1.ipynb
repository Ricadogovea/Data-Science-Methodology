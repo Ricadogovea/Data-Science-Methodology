{
 "cells": [
  {
   "cell_type": "markdown",
   "metadata": {},
   "source": [
    "<a> <img src = 'https://public.boxcloud.com/d/1/b1!XetOgfAnMR3FZlBnsRH4sYYj-JYdGIvyVQsoKO7amzaKtaH5ETKZcGnJ35WrDr2zS466B-UBHMESPoN8lEXJ71jiVVgGX3DrUNzU8FD8Ni3WmBmovb5yasCqyzrbRtMeNsnt5mgxqs2oy0awZh_KR328pjjHnQNbrylQcFm1YWsu3NkfPKfas1P8OljC_BtcuwAvI4A1Dj8y0oG6Wd3AzNYUo8ZbshNE5Q-59CBke9Mu5ziZU_Je4Glkbu5GRAZuCV40LAR69ylA-fkp0Z7irB0ga36DSlLc9aASEdlyZvDWllR7ptbQA-5yk-c6wa8CzzNUzG0-Ht-dkt0AXytELjbIuSBc2md4mJAWndMzGFPekkxsfCzvx6r9LC6WhtU5vjJ8AL7g74mDdYBCjh1NW6mA7Pqp4wPrG2MBT7IqivQrHMYqgAkTAPD9CIb308AvaiLJatYarSIrJZab9eEVXgEGYxeMTgO_AFda6D3bVgo5EZh9xJf2TbI0Dc_ydtjdwX7JCa733TfxBhpV5CxMeGdzF0qYXkrViDHDsUNm84ZM30qzcdSwtD1fI0JalINr2MeQsfHTSRAWoWpdZ5Jrt4Byb27k1TpUbKq6s5MSEHtKA-s8Z65eWX9C_A9d9PbHgRknN8hqBYxfmHta0vCf8_M8031t_ApjP31dxpcbvqXnjuvzIyjkVLytDaVW4DNJze7J9JkwcFH-6YsFVaFU9ihGAKYjXw1cMffufzHQNeBAifw7Y_SQgUw8JWtwCkxErlqv1F5v5fZJ7CYviB1GS7JCTQg4x3dJ7KbcIAxZ1lVRedubZX31YziuBJg-tace6tzTfRqcr7u3vDhIahyxAfpWnG65ncANFPEJNGK6mMCBKltq-Is6nyihvbc1k2VRnR2Tmgeaz6otvdxkDtDF6W5sksNCVIdtGFQ70l4TkrjkipZsDr2jcsb7UZ8Qm-lJD6P7Sn5QrL3B8WeqMpV6-PMi-cBqNDFwhrPkLDLovswARiLNsOKGvhjbNiQ3uH9yrvWboZPFaWpsqeqIT2dLQv0M68zc5Unv5aFtrlxO4tXxttclZmV1U6h2VJJcydrhHZw1AhyM0d1Vs2WlSENNXhJPQJ3c9f6dkCO8PsuANf3Y926Oj6eFFv-GXjsixfcqdyTtrScRx8i83NXCiqieN2gFIe_sKOHnxWyZZ-FS9NoUYasSrbICPQinLwbKB_E5kVDDwssryUyQ-aT34b6Qu_Yp6ZWNSwmkc0rCqymIxFbg_M0Dl1qShkWmpa1mwR_w4Bq5o9uSXKpg8G6wosnW6cy8yuDkj7-hbg20vSrY71N--0MaaTyXyODXaJjFw01BPVoNRDNU9PoMKS_OImNnOPOzc5czpTm454YFviDo3k2XNS6AMR_0lPxLUtvfd5VenoE5rLqaALhomLtiuGhwx0EijgSvLnk95Jdpibk./download' width = '400'> </a>\n",
    "\n"
   ]
  },
  {
   "cell_type": "markdown",
   "metadata": {},
   "source": [
    "<h1 align='center'><font size = '5'>From Problem to Approach</font></h1>\n"
   ]
  },
  {
   "cell_type": "code",
   "execution_count": null,
   "metadata": {},
   "outputs": [],
   "source": []
  },
  {
   "cell_type": "code",
   "execution_count": null,
   "metadata": {},
   "outputs": [],
   "source": []
  },
  {
   "cell_type": "code",
   "execution_count": null,
   "metadata": {},
   "outputs": [],
   "source": []
  },
  {
   "cell_type": "code",
   "execution_count": null,
   "metadata": {},
   "outputs": [],
   "source": []
  },
  {
   "cell_type": "code",
   "execution_count": null,
   "metadata": {},
   "outputs": [],
   "source": []
  },
  {
   "cell_type": "code",
   "execution_count": null,
   "metadata": {},
   "outputs": [],
   "source": []
  }
 ],
 "metadata": {
  "kernelspec": {
   "display_name": "Python",
   "language": "python",
   "name": "conda-env-python-py"
  },
  "language_info": {
   "codemirror_mode": {
    "name": "ipython",
    "version": 3
   },
   "file_extension": ".py",
   "mimetype": "text/x-python",
   "name": "python",
   "nbconvert_exporter": "python",
   "pygments_lexer": "ipython3",
   "version": "3.6.11"
  }
 },
 "nbformat": 4,
 "nbformat_minor": 4
}
